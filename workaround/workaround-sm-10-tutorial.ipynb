{
 "cells": [
  {
   "cell_type": "markdown",
   "metadata": {},
   "source": [
    "# SageMaker 10분 튜토리얼 에러 해결 방법\n",
    "### 에러\n",
    "다음 코드 실행하고 \n",
    "- ```s3_input_train = sagemaker.s3_input(s3_data='s3://{}/{}/train'.format(bucket_name, prefix), content_type='csv')```\n",
    "\n",
    "아래와 같은 에러 발생시\n",
    "- ```AttributeError: module 'sagemaker' has no attribute 's3_input'```\n",
    "\n",
    "\n",
    "### 해결 방법\n",
    "- 현재의 코드가 sagemaker 1.xx 버전으로 되어 있습니다. 아래와 같이 진행하시기 바랍니다.\n",
    "- 아래에 sagemaker 버전을 2.xx 에서 1.70 버전으로 다운그레이드 합니다.\n",
    "- ***아래 (1), (2), (3) 을 진행하시고, 처음 부터 다시 하시기 바랍니다.***\n",
    "\n",
    "![SageMaker-10mins-Error-Workaround](img/sm-10mins-workaround.png)\n",
    "\n",
    "위의 이미지의 코드 입니다. (복사 및 붙이기 하시면 됩니다.)\n",
    "```\n",
    "! pip install sagemaker==1.70.0\n",
    "import sagemaker\n",
    "print(f'sagemaker version: {sagemaker.__version__}')\n",
    "```\n"
   ]
  },
  {
   "cell_type": "code",
   "execution_count": null,
   "metadata": {},
   "outputs": [],
   "source": []
  },
  {
   "cell_type": "code",
   "execution_count": null,
   "metadata": {},
   "outputs": [],
   "source": []
  }
 ],
 "metadata": {
  "kernelspec": {
   "display_name": "conda_python3",
   "language": "python",
   "name": "conda_python3"
  },
  "language_info": {
   "codemirror_mode": {
    "name": "ipython",
    "version": 3
   },
   "file_extension": ".py",
   "mimetype": "text/x-python",
   "name": "python",
   "nbconvert_exporter": "python",
   "pygments_lexer": "ipython3",
   "version": "3.6.10"
  }
 },
 "nbformat": 4,
 "nbformat_minor": 4
}
