{
 "cells": [
  {
   "cell_type": "markdown",
   "metadata": {},
   "source": [
    "# SageMaker의 혼자 배움을 위한 가이드\n",
    "아래 첨부 파일을 클릭하면 아래와 같은 목차가 있고, 혼자 학습을 할 수 있는 자료가 있습니다.\n",
    "- SageMaker 선수 지식 및 101\n",
    "- SageMaker 입문\n",
    "- SageMaker 기본\n",
    "- 유용한 자료 (백서 등)\n",
    "- 체계적인 교육\n",
    "- 대학교 AWS SageMaker 커리큘럼 수업 예시\n",
    "\n",
    "[Self-Study on SageMaker](Self-Study-On-SageMaker.pdf)"
   ]
  },
  {
   "cell_type": "code",
   "execution_count": null,
   "metadata": {},
   "outputs": [],
   "source": []
  }
 ],
 "metadata": {
  "kernelspec": {
   "display_name": "conda_python3",
   "language": "python",
   "name": "conda_python3"
  },
  "language_info": {
   "codemirror_mode": {
    "name": "ipython",
    "version": 3
   },
   "file_extension": ".py",
   "mimetype": "text/x-python",
   "name": "python",
   "nbconvert_exporter": "python",
   "pygments_lexer": "ipython3",
   "version": "3.6.10"
  }
 },
 "nbformat": 4,
 "nbformat_minor": 4
}
